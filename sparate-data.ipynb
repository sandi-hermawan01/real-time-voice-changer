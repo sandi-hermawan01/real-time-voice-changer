{
 "cells": [
  {
   "cell_type": "markdown",
   "metadata": {},
   "source": [
    "### Exsplanation\n",
    "\n",
    "This step serves to separate vocal sounds from instrument sounds or other distracting sounds, this aims to improve the quality of your dataset.\n",
    "\n",
    "<font color='red'>**note**</font>: the dataset I used is just an example, use the best audio dataset possible with a minimum duration of 5 minutes."
   ]
  },
  {
   "cell_type": "markdown",
   "metadata": {},
   "source": [
    "#### Make a Variables Declaration"
   ]
  },
  {
   "cell_type": "code",
   "execution_count": 1,
   "metadata": {},
   "outputs": [],
   "source": [
    "#copy our dataset location\n",
    "url = \"./dataset-video/botan-voice.wav\" "
   ]
  },
  {
   "cell_type": "markdown",
   "metadata": {},
   "source": [
    "#### Install Dependency\n",
    "demucs library is used to separate audio"
   ]
  },
  {
   "cell_type": "code",
   "execution_count": 2,
   "metadata": {},
   "outputs": [
    {
     "name": "stdout",
     "output_type": "stream",
     "text": [
      "Collecting demucs\n",
      "  Using cached demucs-4.0.0.tar.gz (1.2 MB)\n",
      "  Preparing metadata (setup.py): started\n",
      "  Preparing metadata (setup.py): finished with status 'done'\n",
      "Collecting dora-search (from demucs)\n",
      "  Using cached dora_search-0.1.12.tar.gz (87 kB)\n",
      "  Installing build dependencies: started\n",
      "  Installing build dependencies: finished with status 'done'\n",
      "  Getting requirements to build wheel: started\n",
      "  Getting requirements to build wheel: finished with status 'done'\n",
      "  Preparing metadata (pyproject.toml): started\n",
      "  Preparing metadata (pyproject.toml): finished with status 'done'\n",
      "Collecting diffq>=0.2.1 (from demucs)\n",
      "  Downloading diffq-0.2.4-cp310-cp310-win_amd64.whl (91 kB)\n",
      "                                              0.0/91.8 kB ? eta -:--:--\n",
      "     ---------------------------------------- 91.8/91.8 kB 5.4 MB/s eta 0:00:00\n",
      "Collecting einops (from demucs)\n",
      "  Using cached einops-0.6.1-py3-none-any.whl (42 kB)\n",
      "Collecting julius>=0.2.3 (from demucs)\n",
      "  Using cached julius-0.2.7.tar.gz (59 kB)\n",
      "  Preparing metadata (setup.py): started\n",
      "  Preparing metadata (setup.py): finished with status 'done'\n",
      "Collecting lameenc>=1.2 (from demucs)\n",
      "  Downloading lameenc-1.5.1-cp310-cp310-win_amd64.whl (148 kB)\n",
      "                                              0.0/148.4 kB ? eta -:--:--\n",
      "     -------------------------------------- 148.4/148.4 kB 8.6 MB/s eta 0:00:00\n",
      "Collecting openunmix (from demucs)\n",
      "  Using cached openunmix-1.2.1-py3-none-any.whl (46 kB)\n",
      "Collecting pyyaml (from demucs)\n",
      "  Downloading PyYAML-6.0.1-cp310-cp310-win_amd64.whl (145 kB)\n",
      "                                              0.0/145.3 kB ? eta -:--:--\n",
      "     -------------------------------------- 145.3/145.3 kB 8.4 MB/s eta 0:00:00\n",
      "Requirement already satisfied: torch>=1.8.1 in c:\\users\\sandi\\appdata\\local\\programs\\python\\python310\\lib\\site-packages (from demucs) (2.0.1+cu118)\n",
      "Collecting torchaudio>=0.8 (from demucs)\n",
      "  Downloading torchaudio-2.0.2-cp310-cp310-win_amd64.whl (2.1 MB)\n",
      "                                              0.0/2.1 MB ? eta -:--:--\n",
      "     ------                                   0.3/2.1 MB 6.8 MB/s eta 0:00:01\n",
      "     -----------                              0.6/2.1 MB 6.6 MB/s eta 0:00:01\n",
      "     -----------------                        0.9/2.1 MB 6.7 MB/s eta 0:00:01\n",
      "     -----------------------                  1.2/2.1 MB 6.6 MB/s eta 0:00:01\n",
      "     -----------------------------            1.6/2.1 MB 6.6 MB/s eta 0:00:01\n",
      "     ----------------------------------       1.9/2.1 MB 6.6 MB/s eta 0:00:01\n",
      "     ---------------------------------------  2.1/2.1 MB 6.8 MB/s eta 0:00:01\n",
      "     ---------------------------------------- 2.1/2.1 MB 6.5 MB/s eta 0:00:00\n",
      "Requirement already satisfied: tqdm in c:\\users\\sandi\\appdata\\local\\programs\\python\\python310\\lib\\site-packages (from demucs) (4.64.1)\n",
      "Collecting Cython (from diffq>=0.2.1->demucs)\n",
      "  Downloading Cython-3.0.0-cp310-cp310-win_amd64.whl (2.8 MB)\n",
      "                                              0.0/2.8 MB ? eta -:--:--\n",
      "     ----                                     0.3/2.8 MB 9.3 MB/s eta 0:00:01\n",
      "     --------                                 0.6/2.8 MB 7.7 MB/s eta 0:00:01\n",
      "     -------------                            0.9/2.8 MB 7.3 MB/s eta 0:00:01\n",
      "     -----------------                        1.2/2.8 MB 7.0 MB/s eta 0:00:01\n",
      "     ----------------------                   1.5/2.8 MB 7.0 MB/s eta 0:00:01\n",
      "     --------------------------               1.8/2.8 MB 6.9 MB/s eta 0:00:01\n",
      "     -------------------------------          2.2/2.8 MB 6.8 MB/s eta 0:00:01\n",
      "     -----------------------------------      2.4/2.8 MB 6.8 MB/s eta 0:00:01\n",
      "     ---------------------------------------  2.8/2.8 MB 6.7 MB/s eta 0:00:01\n",
      "     ---------------------------------------- 2.8/2.8 MB 6.5 MB/s eta 0:00:00\n",
      "Requirement already satisfied: numpy in c:\\users\\sandi\\appdata\\local\\programs\\python\\python310\\lib\\site-packages (from diffq>=0.2.1->demucs) (1.24.2)\n",
      "Requirement already satisfied: filelock in c:\\users\\sandi\\appdata\\local\\programs\\python\\python310\\lib\\site-packages (from torch>=1.8.1->demucs) (3.12.0)\n",
      "Requirement already satisfied: typing-extensions in c:\\users\\sandi\\appdata\\local\\programs\\python\\python310\\lib\\site-packages (from torch>=1.8.1->demucs) (4.5.0)\n",
      "Requirement already satisfied: sympy in c:\\users\\sandi\\appdata\\local\\programs\\python\\python310\\lib\\site-packages (from torch>=1.8.1->demucs) (1.12)\n",
      "Requirement already satisfied: networkx in c:\\users\\sandi\\appdata\\local\\programs\\python\\python310\\lib\\site-packages (from torch>=1.8.1->demucs) (3.1)\n",
      "Requirement already satisfied: jinja2 in c:\\users\\sandi\\appdata\\local\\programs\\python\\python310\\lib\\site-packages (from torch>=1.8.1->demucs) (3.1.2)\n",
      "Collecting omegaconf (from dora-search->demucs)\n",
      "  Using cached omegaconf-2.3.0-py3-none-any.whl (79 kB)\n",
      "Collecting retrying (from dora-search->demucs)\n",
      "  Using cached retrying-1.3.4-py3-none-any.whl (11 kB)\n",
      "Collecting submitit (from dora-search->demucs)\n",
      "  Using cached submitit-1.4.5-py3-none-any.whl (73 kB)\n",
      "Collecting treetable (from dora-search->demucs)\n",
      "  Using cached treetable-0.2.5.tar.gz (10 kB)\n",
      "  Preparing metadata (setup.py): started\n",
      "  Preparing metadata (setup.py): finished with status 'done'\n",
      "Requirement already satisfied: colorama in c:\\users\\sandi\\appdata\\local\\programs\\python\\python310\\lib\\site-packages (from tqdm->demucs) (0.4.6)\n",
      "Requirement already satisfied: MarkupSafe>=2.0 in c:\\users\\sandi\\appdata\\local\\programs\\python\\python310\\lib\\site-packages (from jinja2->torch>=1.8.1->demucs) (2.1.1)\n",
      "Collecting antlr4-python3-runtime==4.9.* (from omegaconf->dora-search->demucs)\n",
      "  Using cached antlr4_python3_runtime-4.9.3-py3-none-any.whl\n",
      "Requirement already satisfied: six>=1.7.0 in c:\\users\\sandi\\appdata\\local\\programs\\python\\python310\\lib\\site-packages (from retrying->dora-search->demucs) (1.16.0)\n",
      "Collecting cloudpickle>=1.2.1 (from submitit->dora-search->demucs)\n",
      "  Downloading cloudpickle-2.2.1-py3-none-any.whl (25 kB)\n",
      "Requirement already satisfied: mpmath>=0.19 in c:\\users\\sandi\\appdata\\local\\programs\\python\\python310\\lib\\site-packages (from sympy->torch>=1.8.1->demucs) (1.3.0)\n",
      "Building wheels for collected packages: demucs, julius, dora-search, treetable\n",
      "  Building wheel for demucs (setup.py): started\n",
      "  Building wheel for demucs (setup.py): finished with status 'done'\n",
      "  Created wheel for demucs: filename=demucs-4.0.0-py3-none-any.whl size=76566 sha256=1c455d23e298d9cff70991bc6e99b95789c257726981930afb881c10a89792fb\n",
      "  Stored in directory: c:\\users\\sandi\\appdata\\local\\pip\\cache\\wheels\\64\\fc\\2e\\a8e874bba1518a336f21a94085013fba17cb86658ce18ec1c7\n",
      "  Building wheel for julius (setup.py): started\n",
      "  Building wheel for julius (setup.py): finished with status 'done'\n",
      "  Created wheel for julius: filename=julius-0.2.7-py3-none-any.whl size=21925 sha256=62d1368d8b04d6027c72a8d4b565de460b8343ca2908cc3844692b26b6e729e2\n",
      "  Stored in directory: c:\\users\\sandi\\appdata\\local\\pip\\cache\\wheels\\b9\\b2\\05\\f883527ffcb7f2ead5438a2c23439aa0c881eaa9a4c80256f4\n",
      "  Building wheel for dora-search (pyproject.toml): started\n",
      "  Building wheel for dora-search (pyproject.toml): finished with status 'done'\n",
      "  Created wheel for dora-search: filename=dora_search-0.1.12-py3-none-any.whl size=75222 sha256=66217977efd7a63eefd7da7ff0fec4da40c02ec1889ea33606fffcd37cf1141c\n",
      "  Stored in directory: c:\\users\\sandi\\appdata\\local\\pip\\cache\\wheels\\b1\\c2\\c0\\bea5cc405497284d584b958f293ef32c23bad42ae5e44d973c\n",
      "  Building wheel for treetable (setup.py): started\n",
      "  Building wheel for treetable (setup.py): finished with status 'done'\n",
      "  Created wheel for treetable: filename=treetable-0.2.5-py3-none-any.whl size=7369 sha256=344996a94cd6cc6a6dbfd3e3b2a9e904af8eec4bdefff7e61ef2751082b78e40\n",
      "  Stored in directory: c:\\users\\sandi\\appdata\\local\\pip\\cache\\wheels\\72\\55\\0e\\91c3655bdb162446f8a7cd477579397544454a63ae7c599c0c\n",
      "Successfully built demucs julius dora-search treetable\n",
      "Installing collected packages: lameenc, antlr4-python3-runtime, treetable, retrying, pyyaml, einops, Cython, cloudpickle, submitit, omegaconf, torchaudio, julius, dora-search, diffq, openunmix, demucs\n",
      "Successfully installed Cython-3.0.0 antlr4-python3-runtime-4.9.3 cloudpickle-2.2.1 demucs-4.0.0 diffq-0.2.4 dora-search-0.1.12 einops-0.6.1 julius-0.2.7 lameenc-1.5.1 omegaconf-2.3.0 openunmix-1.2.1 pyyaml-6.0.1 retrying-1.3.4 submitit-1.4.5 torchaudio-2.0.2 treetable-0.2.5\n",
      "Note: you may need to restart the kernel to use updated packages.\n"
     ]
    },
    {
     "name": "stderr",
     "output_type": "stream",
     "text": [
      "\n",
      "[notice] A new release of pip is available: 23.1.2 -> 23.2.1\n",
      "[notice] To update, run: python.exe -m pip install --upgrade pip\n"
     ]
    }
   ],
   "source": [
    "pip install -U demucs"
   ]
  },
  {
   "cell_type": "code",
   "execution_count": 3,
   "metadata": {},
   "outputs": [
    {
     "name": "stdout",
     "output_type": "stream",
     "text": [
      "Requirement already satisfied: torchaudio in c:\\users\\sandi\\appdata\\local\\programs\\python\\python310\\lib\\site-packages (2.0.2)\n",
      "Requirement already satisfied: torch==2.0.1 in c:\\users\\sandi\\appdata\\local\\programs\\python\\python310\\lib\\site-packages (from torchaudio) (2.0.1+cu118)\n",
      "Requirement already satisfied: filelock in c:\\users\\sandi\\appdata\\local\\programs\\python\\python310\\lib\\site-packages (from torch==2.0.1->torchaudio) (3.12.0)\n",
      "Requirement already satisfied: typing-extensions in c:\\users\\sandi\\appdata\\local\\programs\\python\\python310\\lib\\site-packages (from torch==2.0.1->torchaudio) (4.5.0)\n",
      "Requirement already satisfied: sympy in c:\\users\\sandi\\appdata\\local\\programs\\python\\python310\\lib\\site-packages (from torch==2.0.1->torchaudio) (1.12)\n",
      "Requirement already satisfied: networkx in c:\\users\\sandi\\appdata\\local\\programs\\python\\python310\\lib\\site-packages (from torch==2.0.1->torchaudio) (3.1)\n",
      "Requirement already satisfied: jinja2 in c:\\users\\sandi\\appdata\\local\\programs\\python\\python310\\lib\\site-packages (from torch==2.0.1->torchaudio) (3.1.2)\n",
      "Requirement already satisfied: MarkupSafe>=2.0 in c:\\users\\sandi\\appdata\\local\\programs\\python\\python310\\lib\\site-packages (from jinja2->torch==2.0.1->torchaudio) (2.1.1)\n",
      "Requirement already satisfied: mpmath>=0.19 in c:\\users\\sandi\\appdata\\local\\programs\\python\\python310\\lib\\site-packages (from sympy->torch==2.0.1->torchaudio) (1.3.0)\n",
      "Note: you may need to restart the kernel to use updated packages.\n"
     ]
    },
    {
     "name": "stderr",
     "output_type": "stream",
     "text": [
      "\n",
      "[notice] A new release of pip is available: 23.1.2 -> 23.2.1\n",
      "[notice] To update, run: python.exe -m pip install --upgrade pip\n"
     ]
    }
   ],
   "source": [
    "pip install torchaudio"
   ]
  },
  {
   "cell_type": "markdown",
   "metadata": {},
   "source": [
    "#### Separate Vocal and Instrument"
   ]
  },
  {
   "cell_type": "code",
   "execution_count": 4,
   "metadata": {},
   "outputs": [
    {
     "name": "stdout",
     "output_type": "stream",
     "text": [
      "\u001b[1mImportant: the default model was recently changed to `htdemucs`\u001b[0m the latest Hybrid Transformer Demucs model. In some cases, this model can actually perform worse than previous models. To get back the old default model use `-n mdx_extra_q`.\n",
      "Selected model is a bag of 1 models. You will see that many progress bars per track.\n",
      "Separated tracks will be stored in D:\\private-project\\real-time-voice-changer\\separated\\htdemucs\n",
      "Separating track dataset-video\\botan-voice.wav\n",
      "\n"
     ]
    }
   ],
   "source": [
    "import subprocess\n",
    "\n",
    "command = f\"demucs --two-stems=vocals {url}\"\n",
    "\n",
    "result = subprocess.run(command.split(), stdout=subprocess.PIPE)\n",
    "print(result.stdout.decode())"
   ]
  },
  {
   "cell_type": "markdown",
   "metadata": {},
   "source": [
    "Okay after that in the separated/htdemucs file you will find the no-vocal file is an instrument or other distracting sound, voical is the original sound that is clear and will be used in the next step."
   ]
  }
 ],
 "metadata": {
  "kernelspec": {
   "display_name": "base",
   "language": "python",
   "name": "python3"
  },
  "language_info": {
   "codemirror_mode": {
    "name": "ipython",
    "version": 3
   },
   "file_extension": ".py",
   "mimetype": "text/x-python",
   "name": "python",
   "nbconvert_exporter": "python",
   "pygments_lexer": "ipython3",
   "version": "3.10.6"
  },
  "orig_nbformat": 4
 },
 "nbformat": 4,
 "nbformat_minor": 2
}
