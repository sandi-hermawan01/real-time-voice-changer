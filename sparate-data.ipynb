{
 "cells": [
  {
   "cell_type": "markdown",
   "metadata": {},
   "source": [
    "### Exsplanation\n",
    "\n",
    "This step serves to separate vocal sounds from instrument sounds or other distracting sounds, this aims to improve the quality of your dataset."
   ]
  },
  {
   "cell_type": "markdown",
   "metadata": {},
   "source": [
    "#### Make a Variables Declaration"
   ]
  },
  {
   "cell_type": "code",
   "execution_count": 13,
   "metadata": {},
   "outputs": [],
   "source": [
    "Mode = \"Separate\"\n",
    "#copy our dataset location\n",
    "url = \"./dataset-video/botan-voice.wav\" "
   ]
  },
  {
   "cell_type": "markdown",
   "metadata": {},
   "source": [
    "#### Install Dependency\n",
    "demucs library is used to separate audio"
   ]
  },
  {
   "cell_type": "code",
   "execution_count": 11,
   "metadata": {},
   "outputs": [
    {
     "name": "stdout",
     "output_type": "stream",
     "text": [
      "Requirement already satisfied: demucs in c:\\users\\sandi\\anaconda3\\lib\\site-packages (4.0.0)\n",
      "Requirement already satisfied: einops in c:\\users\\sandi\\anaconda3\\lib\\site-packages (from demucs) (0.6.1)\n",
      "Requirement already satisfied: diffq>=0.2.1 in c:\\users\\sandi\\anaconda3\\lib\\site-packages (from demucs) (0.2.4)\n",
      "Requirement already satisfied: torch>=1.8.1 in c:\\users\\sandi\\anaconda3\\lib\\site-packages (from demucs) (2.0.1)\n",
      "Requirement already satisfied: torchaudio>=0.8 in c:\\users\\sandi\\anaconda3\\lib\\site-packages (from demucs) (2.0.2)\n",
      "Requirement already satisfied: openunmix in c:\\users\\sandi\\anaconda3\\lib\\site-packages (from demucs) (1.2.1)\n",
      "Requirement already satisfied: pyyaml in c:\\users\\sandi\\anaconda3\\lib\\site-packages (from demucs) (6.0)\n",
      "Requirement already satisfied: dora-search in c:\\users\\sandi\\anaconda3\\lib\\site-packages (from demucs) (0.1.12)\n",
      "Requirement already satisfied: lameenc>=1.2 in c:\\users\\sandi\\anaconda3\\lib\\site-packages (from demucs) (1.5.1)\n",
      "Requirement already satisfied: julius>=0.2.3 in c:\\users\\sandi\\anaconda3\\lib\\site-packages (from demucs) (0.2.7)\n",
      "Requirement already satisfied: tqdm in c:\\users\\sandi\\anaconda3\\lib\\site-packages (from demucs) (4.64.1)\n",
      "Requirement already satisfied: Cython in c:\\users\\sandi\\anaconda3\\lib\\site-packages (from diffq>=0.2.1->demucs) (0.29.32)\n",
      "Requirement already satisfied: numpy in c:\\users\\sandi\\anaconda3\\lib\\site-packages (from diffq>=0.2.1->demucs) (1.21.5)\n",
      "Requirement already satisfied: typing-extensions in c:\\users\\sandi\\anaconda3\\lib\\site-packages (from torch>=1.8.1->demucs) (4.3.0)\n",
      "Requirement already satisfied: networkx in c:\\users\\sandi\\anaconda3\\lib\\site-packages (from torch>=1.8.1->demucs) (2.8.4)\n",
      "Requirement already satisfied: filelock in c:\\users\\sandi\\anaconda3\\lib\\site-packages (from torch>=1.8.1->demucs) (3.6.0)\n",
      "Requirement already satisfied: jinja2 in c:\\users\\sandi\\anaconda3\\lib\\site-packages (from torch>=1.8.1->demucs) (2.11.3)\n",
      "Requirement already satisfied: sympy in c:\\users\\sandi\\anaconda3\\lib\\site-packages (from torch>=1.8.1->demucs) (1.10.1)\n",
      "Requirement already satisfied: treetable in c:\\users\\sandi\\anaconda3\\lib\\site-packages (from dora-search->demucs) (0.2.5)\n",
      "Requirement already satisfied: retrying in c:\\users\\sandi\\anaconda3\\lib\\site-packages (from dora-search->demucs) (1.3.4)\n",
      "Requirement already satisfied: omegaconf in c:\\users\\sandi\\anaconda3\\lib\\site-packages (from dora-search->demucs) (2.3.0)\n",
      "Requirement already satisfied: submitit in c:\\users\\sandi\\anaconda3\\lib\\site-packages (from dora-search->demucs) (1.4.5)\n",
      "Requirement already satisfied: colorama in c:\\users\\sandi\\anaconda3\\lib\\site-packages (from tqdm->demucs) (0.4.5)\n",
      "Requirement already satisfied: MarkupSafe>=0.23 in c:\\users\\sandi\\anaconda3\\lib\\site-packages (from jinja2->torch>=1.8.1->demucs) (2.0.1)\n",
      "Requirement already satisfied: antlr4-python3-runtime==4.9.* in c:\\users\\sandi\\anaconda3\\lib\\site-packages (from omegaconf->dora-search->demucs) (4.9.3)\n",
      "Requirement already satisfied: six>=1.7.0 in c:\\users\\sandi\\anaconda3\\lib\\site-packages (from retrying->dora-search->demucs) (1.16.0)\n",
      "Requirement already satisfied: cloudpickle>=1.2.1 in c:\\users\\sandi\\anaconda3\\lib\\site-packages (from submitit->dora-search->demucs) (2.0.0)\n",
      "Requirement already satisfied: mpmath>=0.19 in c:\\users\\sandi\\anaconda3\\lib\\site-packages (from sympy->torch>=1.8.1->demucs) (1.2.1)\n",
      "Note: you may need to restart the kernel to use updated packages.\n"
     ]
    }
   ],
   "source": [
    "pip install -U demucs"
   ]
  },
  {
   "cell_type": "markdown",
   "metadata": {},
   "source": [
    "#### Separate Vocal and Instrument"
   ]
  },
  {
   "cell_type": "code",
   "execution_count": 14,
   "metadata": {},
   "outputs": [
    {
     "name": "stdout",
     "output_type": "stream",
     "text": [
      "\u001b[1mImportant: the default model was recently changed to `htdemucs`\u001b[0m the latest Hybrid Transformer Demucs model. In some cases, this model can actually perform worse than previous models. To get back the old default model use `-n mdx_extra_q`.\n",
      "Selected model is a bag of 1 models. You will see that many progress bars per track.\n",
      "Separated tracks will be stored in D:\\private-project\\real-time-voice-changer\\separated\\htdemucs\n",
      "Separating track dataset-video\\botan-voice.wav\n",
      "Could not load file dataset-video\\botan-voice.wav. Maybe it is not a supported file format? \n",
      "When trying to load using ffmpeg, got the following error: FFmpeg is not installed.\n",
      "When trying to load using torchaudio, got the following error: No audio I/O backend is available.\n",
      "\n"
     ]
    }
   ],
   "source": [
    "import subprocess\n",
    "\n",
    "command = f\"demucs --two-stems=vocals {url}\"\n",
    "\n",
    "result = subprocess.run(command.split(), stdout=subprocess.PIPE)\n",
    "print(result.stdout.decode())"
   ]
  }
 ],
 "metadata": {
  "kernelspec": {
   "display_name": "base",
   "language": "python",
   "name": "python3"
  },
  "language_info": {
   "codemirror_mode": {
    "name": "ipython",
    "version": 3
   },
   "file_extension": ".py",
   "mimetype": "text/x-python",
   "name": "python",
   "nbconvert_exporter": "python",
   "pygments_lexer": "ipython3",
   "version": "3.9.13"
  },
  "orig_nbformat": 4
 },
 "nbformat": 4,
 "nbformat_minor": 2
}
